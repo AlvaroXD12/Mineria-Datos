





























import pandas as pd
import numpy as np

'''
df_p1 = pd.read_csv("in_data_cruda_p1_27072025.csv", 
                    encoding='utf-8',      # o 'latin-1' si hay caracteres especiales
                    sep=';',               # separador (por defecto es coma)
                    header=0,              # fila que contiene los nombres de columnas
                    index_col=None)        # si quieres usar una columna como índice
'''
df = pd.read_excel("CAMPANADESENSIBILIZACIONRESPIRAAIRELIMPIO_X.xlsx")



# Resumen general
df.info()
print('df.columns:',df.columns)
print('df.shape:',df.shape)
df.head(10)








#Resumen estadístico de todas las variables (describe()).
df.describe(include="all").T # incluye categóricas y numéricas


# Separar los datos segú sus Tipos de variables (numéricas, categóricas). fechas se considera como cat aunque también puedes separr
numeric_data = df.select_dtypes(include=[np.number])
categor_data = df.select_dtypes(exclude=[np.number])
print ("There are {} numeric and {} categorical columns in train data".format(numeric_data.shape[1],categor_data.shape[1]))


numeric_data.describe().T
# Puedes ver la Distribución de variables numéricas (cantidad o freq, media, mediana, desviación estándar, mín, máx. etc.).


categor_data.describe(include="all").T
# Puedes ver valores únicos en categóricas (ej. State, Vehicle type, Fuel type), freq, etc.


# Conteo de valores únicos en categóricas
for col in ['Intervention type','Vehicle type','Fuel type','State']:
    print(f"\n{col}:\n", df[col].value_counts())

# Conteo de la variable objetivo, 
df["State"].value_counts()





import matplotlib.pyplot as plt
import seaborn as sns

# Histograma de año de vehículo
plt.figure(figsize=(8,5))
sns.histplot(df['Vehicle year'], bins=30, kde=True)
plt.title("Distribución del año de fabricación")
plt.show()

# Boxplot de edad de vehículo por estado
plt.figure(figsize=(6,5))
sns.boxplot(x='State', y='Vehicle age', data=df)
plt.title("Edad del vehículo vs Estado")
plt.show()

# Conteo de combustible
plt.figure(figsize=(6,4))
sns.countplot(data=df, x='Fuel type', order=df['Fuel type'].value_counts().index)
plt.title("Distribución por tipo de combustible")
plt.xticks(rotation=45)
plt.show()



''' Opcional
Gráfico de conteo de la variable objetivo State (Approved vs Disapproved).
Gráficos de barras para categóricas (ej. Fuel type, Vehicle type).
Histogramas y boxplots para variables numéricas (ej. Vehicle year, Vehicle age).
'''
# Distribuciones iniciales
df['State'].value_counts().plot(kind='bar')
plt.title('Distribución del Estado (Aprobado vs Desaprobado)')
plt.xlabel('Estado')
plt.ylabel('Frecuencia')
plt.show()

df["Vehicle year"].hist(bins=20)
plt.title("Distribución del año de fabricación")
plt.show()

# Histograma de Edad del vehículo
df['Vehicle age'].plot(kind='hist', bins=20, edgecolor='black')
plt.title('Distribución de la Edad de los Vehículos')
plt.xlabel('Edad (años)')
plt.ylabel('Frecuencia')
plt.show()

df["Fuel type"].value_counts().plot(kind="bar")
plt.title("Distribución de tipo de combustible")
plt.show()


''' Opcional
'''
# Boxplot de CO por Estado 
plt.figure()
data_co = [df.loc[df['State']=='APPROVED','CO percVol'].dropna(),
           df.loc[df['State']=='DISAPPROVED','CO percVol'].dropna()]
plt.boxplot(data_co, labels=['APPROVED','DISAPPROVED'], showfliers=True)
plt.title('CO (%) por Estado')
plt.xlabel('Estado')
plt.ylabel('CO (%)')
plt.show()

# Boxplot de HC por Estado
plt.figure()
data_hc = [df.loc[df['State']=='APPROVED','HC ppm'].dropna(),
           df.loc[df['State']=='DISAPPROVED','HC ppm'].dropna()]
plt.boxplot(data_hc, labels=['APPROVED','DISAPPROVED'], showfliers=True)
plt.title('HC (ppm) por Estado')
plt.xlabel('Estado')
plt.ylabel('HC (ppm)')
plt.show()





# Correlaciones numéricas
plt.figure(figsize=(10,8))
sns.heatmap(df.corr(numeric_only=True), annot=True, cmap='coolwarm', fmt=".2f")
plt.title("Matriz de correlaciones")
plt.show()

# Cruce de variables categóricas con el objetivo
pd.crosstab(df['Fuel type'], df['State'], normalize='index') * 100



'''
Correlaciones entre variables numéricas (heatmap de correlaciones).
Cruces de variables categóricas con la variable objetivo (State) mediante tablas de contingencia o groupby.
Pruebas estadísticas simples (Chi-cuadrado para categóricas vs State, t-test o ANOVA para numéricas vs State).
'''
num_cols = df.select_dtypes(include=['int64','float64']).columns
corr = df[num_cols].corr()
plt.figure(figsize=(10,8))
im = plt.imshow(corr, interpolation='nearest', aspect='auto')
plt.title('Matriz de correlación (numéricas)')
plt.colorbar(im)
plt.xticks(range(len(num_cols)), num_cols, rotation=90)
plt.yticks(range(len(num_cols)), num_cols)
plt.tight_layout()
plt.show()

ct_fuel = pd.crosstab(df['Fuel type'], df['State'])
ax = ct_fuel.plot(kind='bar', stacked=True, figsize=(8,4))
plt.title('Tipo de combustible vs Estado')
plt.xlabel('Fuel type')
plt.ylabel('Frecuencia')
plt.tight_layout()
plt.show()

ct_type = pd.crosstab(df['Vehicle type'], df['State'])
ax = ct_type.plot(kind='bar', stacked=True, figsize=(8,4))
plt.title('Tipo de vehículo vs Estado')
plt.xlabel('Vehicle type')
plt.ylabel('Frecuencia')
plt.tight_layout()
plt.show()





# Valores faltantes
print(df.isnull().sum())

# Posibles inconsistencias
print("Mínimo y máximo año:", df['Vehicle year'].min(), df['Vehicle year'].max())
print("Mínimo y máximo edad:", df['Vehicle age'].min(), df['Vehicle age'].max())

# Distribución de la variable objetivo
sns.countplot(x='State', data=df)
plt.title("Distribución del estado (Approved vs Disapproved)")
plt.show()



'''
Valores faltantes: identificar y cuantificar (df.isnull().sum()).
Posibles inconsistencias :
    Años fuera de rango (ej. vehículos con Vehicle year futuro).
    Edades negativas o mayores a 50 años.
Distribución de la variable objetivo (State): revisar balance entre APPROVED y DISAPPROVED.
'''
na_counts = df.isna().sum().sort_values(ascending=False)
na_pct = (na_counts/len(df)*100).round(2)
quality_missing = pd.DataFrame({'missing': na_counts, 'missing_%': na_pct})
display(quality_missing)

df['_Date_dt'] = pd.to_datetime(df['Date'], errors='coerce', dayfirst=True)
dup_keys = df.duplicated(subset=['Vehicle plate','_Date_dt'])
print('Registros potencialmente duplicados:', dup_keys.sum())

suspects = df[(df['CO2 percVol']>25) | (df['CO percVol']>12.5) | (df['HC ppm']>5000)]
print('Registros sospechosos (CO2>25% o CO>12.5% o HC>5000):', len(suspects))
display(suspects[['Date','Vehicle plate','CO percVol','HC ppm','CO2 percVol','State']].head())






# Medias comparativas numéricas
df.groupby('State').mean(numeric_only=True)


# Comparación gráfica de variables numéricas
plt.figure(figsize=(8,5))
sns.histplot(data=df, x='Vehicle age', hue='State', kde=True, bins=30)
plt.title("Edad del vehículo según estado")
plt.show()


perfil_num = df.groupby('State')[['Vehicle age','CO percVol','HC ppm','CO2 percVol']]
perfil_num = perfil_num.agg(['mean','median','std','min','max']).round(3)
display(perfil_num)

perfil_cat_fuel = pd.crosstab(df['Fuel type'], df['State'], normalize='columns')*100
perfil_cat_type = pd.crosstab(df['Vehicle type'], df['State'], normalize='columns')*100
display(perfil_cat_fuel.round(2))
display(perfil_cat_type.round(2))

perfil_num.to_csv('perfil_numerico_por_estado.csv')
perfil_cat_fuel.to_csv('perfil_combustible_por_estado.csv')
perfil_cat_type.to_csv('perfil_tipovehiculo_por_estado.csv')
print('Archivos CSV exportados.')























# Conservar solo variables relevantes + objetivo
features_keep = ["Vehicle type", "Fuel type", "Vehicle age"]
target = ["State"]

df_sel = df[features_keep+target]

print("df_sel.shape:", df_sel.shape)
print("df_sel.columns:", df_sel.columns.tolist())
df_sel.head(3)


# 1. Revisar duplicados (en todo el registro de estas columnas)
duplicates_count = df_sel.duplicated().sum()
# df_sel = df_sel.drop_duplicates()
duplicates_count


# 2. Revisar outliers en Vehicle age
age_summary = df_sel['Vehicle age'].describe()
outliers_high = df_sel[df_sel['Vehicle age'] > 50].shape[0]
outliers_low = df_sel[df_sel['Vehicle age'] < 0].shape[0]
outliers_high, outliers_low



# 3. Revisar valores faltantes
df_sel.isnull().sum()


#porcentaje de valores null por columna
miss = (df_sel.isnull().sum() / len(df_sel))*100
miss.sort_values(inplace=True)
miss


df_sel


#Eliminar los valores nulos, este paso no es necesario
df_clean = df_sel.dropna()
print('df_sel.shape:',df_sel.shape)
print('df_clean.shape:',df_clean.shape)


# 
df_clean.describe()


df_clean.info()



#separate variables into new data frames

numeric_data = df_clean.select_dtypes(include=[np.number])
categor_data = df_clean.select_dtypes(exclude=[np.number])
print ("There are {} numeric and {} categorical columns in train data".format(numeric_data.shape[1],categor_data.shape[1]))


numeric_data.describe()


#correlation plot
corr = numeric_data.corr()
sns.heatmap(corr, annot=True)


categor_data.describe()


print('numeric_data.columns:',numeric_data.columns)
print('categor_data.columns:',categor_data.columns)





data=df_clean


# 1. Codificar variable objetivo con Label Encoding para codificación binaria
data['State_i'] = data['State'].map({'APPROVED': 1, 'DISAPPROVED': 0}) # Variable objetivo (binaria):
data


# One-Hot Encoding
    # Vehicle type → columnas Type_*
    # Fuel type → columnas Fuel_*
    
data_encoded = pd.get_dummies(data, columns=['Vehicle type','Fuel type'], prefix=['Type','Fuel'])
data_encoded


# Escalado de variable numérica (Vehicle age):
#  Podemos usar StandardScaler (media=0, sd=1) o MinMaxScaler (0–1).
from sklearn.preprocessing import StandardScaler

scaler = StandardScaler()
data_encoded['Vehicle_age_scaled'] = scaler.fit_transform(data_encoded[['Vehicle age']])
data_encoded



# Seleccionar columnas transformadas
cols_show = ['State_i', 'Vehicle_age_scaled'] + \
             [col for col in data_encoded.columns if col.startswith('Type_') or col.startswith('Fuel_')]

data_encoded[cols_show].head()


# Seleccionar para guardar
print('features_keep:',features_keep)
print('target:',target)
# features_keep = ["Vehicle type", "Fuel type", "Vehicle age"]
# target = ["State"]

data=data[features_keep+target].head()
data








# Calcular correlaciones de todas las variables numéricas con respecto a State_i
corr_vars = data_encoded.drop(columns=['State']).corr()
corr_vars



# Ordenar las correlaciones con respecto a State_i
corr_with_target = corr_vars['State_i'].sort_values(ascending=False)

corr_with_target





import matplotlib.pyplot as plt
import seaborn as sns

# Excluir la autocorrelación de State_i=1
corr_with_target_plot = corr_with_target.drop('State_i')

# Crear gráfico de barras ordenado
plt.figure(figsize=(8,6))
sns.barplot(x=corr_with_target_plot.values, y=corr_with_target_plot.index, palette="coolwarm")
plt.title("Correlación de variables con State_i (Approved=1)")
plt.xlabel("Coeficiente de correlación")
plt.ylabel("Variables")
plt.axvline(0, color='black', linestyle='--')
plt.show()



# fin del cuaderno ----*-----


# Codificación de variables categóricas
df_enc = pd.get_dummies(df, columns=["Vehicle type","Fuel type"], drop_first=True)
df_enc


# Feature engineering
df_enc["Vehicle_age_calc"] = 2025 - df_enc["Vehicle year"]
df_enc








# Frecuencias categóricas
freq_vehicle_type = data['Vehicle type'].value_counts(normalize=True) * 100
freq_fuel_type = data['Fuel type'].value_counts(normalize=True) * 100
freq_vehicle_type



freq_fuel_type.to_frame("percentage")





# Guardar dataset limpio sin transformar, revisar lo que conviene
data.to_csv("data_clean.csv", index=False)
print("Dataset limpio + transformado guardado como data_clean.csv")









# EDA post-limpieza
import seaborn as sns

sns.heatmap(df_enc.corr(), cmap="coolwarm", center=0)
plt.title("Matriz de correlación post-limpieza")
plt.show()

# Selección final de variables
corr_target = df_enc.corr()["State_bin"].sort_values(ascending=False)
print("Correlación con la variable objetivo:\n", corr_target)

# TODO: Eliminar variables irrelevantes o redundantes según correlación y sentido de negocio













